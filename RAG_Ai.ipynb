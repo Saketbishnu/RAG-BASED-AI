{
  "nbformat": 4,
  "nbformat_minor": 0,
  "metadata": {
    "colab": {
      "provenance": [],
      "gpuType": "T4",
      "authorship_tag": "ABX9TyO2l0fjs4FMhmm1V+vegtgu",
      "include_colab_link": true
    },
    "kernelspec": {
      "name": "python3",
      "display_name": "Python 3"
    },
    "language_info": {
      "name": "python"
    },
    "accelerator": "GPU"
  },
  "cells": [
    {
      "cell_type": "markdown",
      "metadata": {
        "id": "view-in-github",
        "colab_type": "text"
      },
      "source": [
        "<a href=\"https://colab.research.google.com/github/Saketbishnu/RAG-BASED-AI/blob/main/RAG_Ai.ipynb\" target=\"_parent\"><img src=\"https://colab.research.google.com/assets/colab-badge.svg\" alt=\"Open In Colab\"/></a>"
      ]
    },
    {
      "cell_type": "code",
      "execution_count": 1,
      "metadata": {
        "id": "EdekcCKEkt7i"
      },
      "outputs": [],
      "source": [
        "!pip install -q openai-whisper"
      ]
    },
    {
      "cell_type": "code",
      "source": [
        "!apt-get -qq update"
      ],
      "metadata": {
        "colab": {
          "base_uri": "https://localhost:8080/"
        },
        "id": "8uSRrVEqlJBT",
        "outputId": "4ebf350e-5f11-43c1-960a-b14ba4aaf6dd"
      },
      "execution_count": 2,
      "outputs": [
        {
          "output_type": "stream",
          "name": "stdout",
          "text": [
            "W: Skipping acquire of configured file 'main/source/Sources' as repository 'https://r2u.stat.illinois.edu/ubuntu jammy InRelease' does not seem to provide it (sources.list entry misspelt?)\n"
          ]
        }
      ]
    },
    {
      "cell_type": "code",
      "source": [
        "!apt-get -qq install -y ffmpeg"
      ],
      "metadata": {
        "id": "jRbD-iQDlL9O"
      },
      "execution_count": 3,
      "outputs": []
    },
    {
      "cell_type": "code",
      "source": [
        "import torch\n",
        "print(\"CUDA available:\", torch.cuda.is_available())\n",
        "if torch.cuda.is_available():\n",
        "    print(\"GPU:\", torch.cuda.get_device_name(0))\n"
      ],
      "metadata": {
        "colab": {
          "base_uri": "https://localhost:8080/"
        },
        "id": "eRXlkyC5lQsr",
        "outputId": "f663fd4e-aad9-425c-db62-9782c8a6b784"
      },
      "execution_count": 4,
      "outputs": [
        {
          "output_type": "stream",
          "name": "stdout",
          "text": [
            "CUDA available: True\n",
            "GPU: Tesla T4\n"
          ]
        }
      ]
    },
    {
      "cell_type": "code",
      "source": [
        "!pip install -q openai-whisper\n",
        "!apt-get -qq update && apt-get -qq install -y ffmpeg\n"
      ],
      "metadata": {
        "colab": {
          "base_uri": "https://localhost:8080/"
        },
        "id": "CdWRgY7jlcdl",
        "outputId": "6df5798d-141e-434f-a18c-fb1cdf8686c0"
      },
      "execution_count": 7,
      "outputs": [
        {
          "output_type": "stream",
          "name": "stdout",
          "text": [
            "W: Skipping acquire of configured file 'main/source/Sources' as repository 'https://r2u.stat.illinois.edu/ubuntu jammy InRelease' does not seem to provide it (sources.list entry misspelt?)\n"
          ]
        }
      ]
    },
    {
      "cell_type": "code",
      "source": [
        "from google.colab import files\n",
        "import os\n",
        "\n",
        "# Make folder for audios\n",
        "os.makedirs(\"audios\", exist_ok=True)\n",
        "\n",
        "# Upload files (choose .mp3, .mp4, etc.)\n",
        "uploaded = files.upload()\n",
        "\n",
        "# Save uploaded files into \"audios/\"\n",
        "for fn in uploaded.keys():\n",
        "    os.rename(fn, f\"audios/{fn}\")\n",
        "    print(\"Saved:\", f\"audios/{fn}\")\n",
        "\n"
      ],
      "metadata": {
        "colab": {
          "base_uri": "https://localhost:8080/",
          "height": 128
        },
        "id": "flKsvWWIlYsV",
        "outputId": "78f3d9d9-bedc-4bfd-cc77-e2f34452d508"
      },
      "execution_count": 22,
      "outputs": [
        {
          "output_type": "display_data",
          "data": {
            "text/plain": [
              "<IPython.core.display.HTML object>"
            ],
            "text/html": [
              "\n",
              "     <input type=\"file\" id=\"files-7693a69a-41f4-4f3c-bb0a-5d7a431d89fe\" name=\"files[]\" multiple disabled\n",
              "        style=\"border:none\" />\n",
              "     <output id=\"result-7693a69a-41f4-4f3c-bb0a-5d7a431d89fe\">\n",
              "      Upload widget is only available when the cell has been executed in the\n",
              "      current browser session. Please rerun this cell to enable.\n",
              "      </output>\n",
              "      <script>// Copyright 2017 Google LLC\n",
              "//\n",
              "// Licensed under the Apache License, Version 2.0 (the \"License\");\n",
              "// you may not use this file except in compliance with the License.\n",
              "// You may obtain a copy of the License at\n",
              "//\n",
              "//      http://www.apache.org/licenses/LICENSE-2.0\n",
              "//\n",
              "// Unless required by applicable law or agreed to in writing, software\n",
              "// distributed under the License is distributed on an \"AS IS\" BASIS,\n",
              "// WITHOUT WARRANTIES OR CONDITIONS OF ANY KIND, either express or implied.\n",
              "// See the License for the specific language governing permissions and\n",
              "// limitations under the License.\n",
              "\n",
              "/**\n",
              " * @fileoverview Helpers for google.colab Python module.\n",
              " */\n",
              "(function(scope) {\n",
              "function span(text, styleAttributes = {}) {\n",
              "  const element = document.createElement('span');\n",
              "  element.textContent = text;\n",
              "  for (const key of Object.keys(styleAttributes)) {\n",
              "    element.style[key] = styleAttributes[key];\n",
              "  }\n",
              "  return element;\n",
              "}\n",
              "\n",
              "// Max number of bytes which will be uploaded at a time.\n",
              "const MAX_PAYLOAD_SIZE = 100 * 1024;\n",
              "\n",
              "function _uploadFiles(inputId, outputId) {\n",
              "  const steps = uploadFilesStep(inputId, outputId);\n",
              "  const outputElement = document.getElementById(outputId);\n",
              "  // Cache steps on the outputElement to make it available for the next call\n",
              "  // to uploadFilesContinue from Python.\n",
              "  outputElement.steps = steps;\n",
              "\n",
              "  return _uploadFilesContinue(outputId);\n",
              "}\n",
              "\n",
              "// This is roughly an async generator (not supported in the browser yet),\n",
              "// where there are multiple asynchronous steps and the Python side is going\n",
              "// to poll for completion of each step.\n",
              "// This uses a Promise to block the python side on completion of each step,\n",
              "// then passes the result of the previous step as the input to the next step.\n",
              "function _uploadFilesContinue(outputId) {\n",
              "  const outputElement = document.getElementById(outputId);\n",
              "  const steps = outputElement.steps;\n",
              "\n",
              "  const next = steps.next(outputElement.lastPromiseValue);\n",
              "  return Promise.resolve(next.value.promise).then((value) => {\n",
              "    // Cache the last promise value to make it available to the next\n",
              "    // step of the generator.\n",
              "    outputElement.lastPromiseValue = value;\n",
              "    return next.value.response;\n",
              "  });\n",
              "}\n",
              "\n",
              "/**\n",
              " * Generator function which is called between each async step of the upload\n",
              " * process.\n",
              " * @param {string} inputId Element ID of the input file picker element.\n",
              " * @param {string} outputId Element ID of the output display.\n",
              " * @return {!Iterable<!Object>} Iterable of next steps.\n",
              " */\n",
              "function* uploadFilesStep(inputId, outputId) {\n",
              "  const inputElement = document.getElementById(inputId);\n",
              "  inputElement.disabled = false;\n",
              "\n",
              "  const outputElement = document.getElementById(outputId);\n",
              "  outputElement.innerHTML = '';\n",
              "\n",
              "  const pickedPromise = new Promise((resolve) => {\n",
              "    inputElement.addEventListener('change', (e) => {\n",
              "      resolve(e.target.files);\n",
              "    });\n",
              "  });\n",
              "\n",
              "  const cancel = document.createElement('button');\n",
              "  inputElement.parentElement.appendChild(cancel);\n",
              "  cancel.textContent = 'Cancel upload';\n",
              "  const cancelPromise = new Promise((resolve) => {\n",
              "    cancel.onclick = () => {\n",
              "      resolve(null);\n",
              "    };\n",
              "  });\n",
              "\n",
              "  // Wait for the user to pick the files.\n",
              "  const files = yield {\n",
              "    promise: Promise.race([pickedPromise, cancelPromise]),\n",
              "    response: {\n",
              "      action: 'starting',\n",
              "    }\n",
              "  };\n",
              "\n",
              "  cancel.remove();\n",
              "\n",
              "  // Disable the input element since further picks are not allowed.\n",
              "  inputElement.disabled = true;\n",
              "\n",
              "  if (!files) {\n",
              "    return {\n",
              "      response: {\n",
              "        action: 'complete',\n",
              "      }\n",
              "    };\n",
              "  }\n",
              "\n",
              "  for (const file of files) {\n",
              "    const li = document.createElement('li');\n",
              "    li.append(span(file.name, {fontWeight: 'bold'}));\n",
              "    li.append(span(\n",
              "        `(${file.type || 'n/a'}) - ${file.size} bytes, ` +\n",
              "        `last modified: ${\n",
              "            file.lastModifiedDate ? file.lastModifiedDate.toLocaleDateString() :\n",
              "                                    'n/a'} - `));\n",
              "    const percent = span('0% done');\n",
              "    li.appendChild(percent);\n",
              "\n",
              "    outputElement.appendChild(li);\n",
              "\n",
              "    const fileDataPromise = new Promise((resolve) => {\n",
              "      const reader = new FileReader();\n",
              "      reader.onload = (e) => {\n",
              "        resolve(e.target.result);\n",
              "      };\n",
              "      reader.readAsArrayBuffer(file);\n",
              "    });\n",
              "    // Wait for the data to be ready.\n",
              "    let fileData = yield {\n",
              "      promise: fileDataPromise,\n",
              "      response: {\n",
              "        action: 'continue',\n",
              "      }\n",
              "    };\n",
              "\n",
              "    // Use a chunked sending to avoid message size limits. See b/62115660.\n",
              "    let position = 0;\n",
              "    do {\n",
              "      const length = Math.min(fileData.byteLength - position, MAX_PAYLOAD_SIZE);\n",
              "      const chunk = new Uint8Array(fileData, position, length);\n",
              "      position += length;\n",
              "\n",
              "      const base64 = btoa(String.fromCharCode.apply(null, chunk));\n",
              "      yield {\n",
              "        response: {\n",
              "          action: 'append',\n",
              "          file: file.name,\n",
              "          data: base64,\n",
              "        },\n",
              "      };\n",
              "\n",
              "      let percentDone = fileData.byteLength === 0 ?\n",
              "          100 :\n",
              "          Math.round((position / fileData.byteLength) * 100);\n",
              "      percent.textContent = `${percentDone}% done`;\n",
              "\n",
              "    } while (position < fileData.byteLength);\n",
              "  }\n",
              "\n",
              "  // All done.\n",
              "  yield {\n",
              "    response: {\n",
              "      action: 'complete',\n",
              "    }\n",
              "  };\n",
              "}\n",
              "\n",
              "scope.google = scope.google || {};\n",
              "scope.google.colab = scope.google.colab || {};\n",
              "scope.google.colab._files = {\n",
              "  _uploadFiles,\n",
              "  _uploadFilesContinue,\n",
              "};\n",
              "})(self);\n",
              "</script> "
            ]
          },
          "metadata": {}
        },
        {
          "output_type": "stream",
          "name": "stdout",
          "text": [
            "Saving 7 (1).mp4_Forms and input tags in HTML _ Sigma Web Development Course - Tutorial #7 (1).mp4.mp3 to 7 (1).mp4_Forms and input tags in HTML _ Sigma Web Development Course - Tutorial #7 (1).mp4.mp3\n",
            "Saved: audios/7 (1).mp4_Forms and input tags in HTML _ Sigma Web Development Course - Tutorial #7 (1).mp4.mp3\n"
          ]
        }
      ]
    },
    {
      "cell_type": "code",
      "source": [
        "import whisper, torch\n",
        "\n",
        "device = \"cuda\" if torch.cuda.is_available() else \"cpu\"\n",
        "print(\"Using device:\", device)\n",
        "\n",
        "# choose model: \"tiny\", \"base\", \"small\", \"medium\", \"large-v2\"\n",
        "model = whisper.load_model(\"small\").to(device)\n"
      ],
      "metadata": {
        "colab": {
          "base_uri": "https://localhost:8080/"
        },
        "id": "528u3HvjnE7m",
        "outputId": "3fc1a728-ef02-416d-bb13-5d7ba4397971"
      },
      "execution_count": 13,
      "outputs": [
        {
          "output_type": "stream",
          "name": "stdout",
          "text": [
            "Using device: cuda\n"
          ]
        }
      ]
    },
    {
      "cell_type": "code",
      "source": [
        "import whisper\n",
        "import json\n",
        "import os\n",
        "\n",
        "# 1. Load Whisper model\n",
        "device = \"cuda\" if whisper.torch.cuda.is_available() else \"cpu\"\n",
        "model = whisper.load_model(\"small\").to(device)\n",
        "\n",
        "# 2. Input/Output folders\n",
        "AUDIO_DIR = \"audios\"\n",
        "JSON_DIR = \"jsons\"\n",
        "os.makedirs(JSON_DIR, exist_ok=True)\n",
        "\n",
        "# 3. Pick the most recently uploaded file\n",
        "files = [f for f in os.listdir(AUDIO_DIR) if f.lower().endswith((\".mp3\", \".mp4\", \".wav\", \".m4a\", \".aac\", \".flac\"))]\n",
        "if not files:\n",
        "    raise ValueError(\"No audio files found in audios/\")\n",
        "\n",
        "latest_file = max([os.path.join(AUDIO_DIR, f) for f in files], key=os.path.getctime)\n",
        "audio = os.path.basename(latest_file)\n",
        "\n",
        "print(\"▶️ Processing only latest file:\", audio)\n",
        "\n",
        "# Extract \"number\" and \"title\"\n",
        "base_name = os.path.splitext(audio)[0]\n",
        "parts = base_name.split(\"_\", 1)\n",
        "number = parts[0] if len(parts) > 0 else \"unknown\"\n",
        "title = parts[1] if len(parts) > 1 else base_name\n",
        "\n",
        "# Run Whisper transcription\n",
        "result = model.transcribe(\n",
        "    audio=latest_file,\n",
        "    language=\"hi\",\n",
        "    task=\"translate\",\n",
        "    word_timestamps=False\n",
        ")\n",
        "\n",
        "# Build JSON with chunks\n",
        "chunks = []\n",
        "for segment in result[\"segments\"]:\n",
        "    chunks.append({\n",
        "        \"number\": number,\n",
        "        \"title\": title,\n",
        "        \"start\": segment[\"start\"],\n",
        "        \"end\": segment[\"end\"],\n",
        "        \"text\": segment[\"text\"]\n",
        "    })\n",
        "\n",
        "# Add final text\n",
        "output = {\n",
        "    \"chunks\": chunks,\n",
        "    \"text\": result[\"text\"]\n",
        "}\n",
        "\n",
        "# Save JSON file\n",
        "out_file = os.path.join(JSON_DIR, f\"{base_name}.json\")\n",
        "with open(out_file, \"w\", encoding=\"utf-8\") as f:\n",
        "    json.dump(output, f, ensure_ascii=False, indent=2)\n",
        "\n",
        "print(f\"✅ Saved only latest file JSON: {out_file}\")\n"
      ],
      "metadata": {
        "colab": {
          "base_uri": "https://localhost:8080/"
        },
        "id": "kd9BrwsynSR-",
        "outputId": "5e66e9e1-3a6b-48fb-91de-acb31825f5c2"
      },
      "execution_count": 23,
      "outputs": [
        {
          "output_type": "stream",
          "name": "stdout",
          "text": [
            "▶️ Processing only latest file: 7 (1).mp4_Forms and input tags in HTML _ Sigma Web Development Course - Tutorial #7 (1).mp4.mp3\n",
            "✅ Saved only latest file JSON: jsons/7 (1).mp4_Forms and input tags in HTML _ Sigma Web Development Course - Tutorial #7 (1).mp4.json\n"
          ]
        }
      ]
    },
    {
      "cell_type": "code",
      "source": [
        "from google.colab import files\n",
        "import os\n",
        "\n",
        "JSON_DIR = \"jsons\"\n",
        "\n",
        "# get latest JSON file by creation time\n",
        "latest_json = max([os.path.join(JSON_DIR, f) for f in os.listdir(JSON_DIR) if f.endswith(\".json\")],\n",
        "                  key=os.path.getctime)\n",
        "\n",
        "print(\"Downloading latest file:\", latest_json)\n",
        "files.download(latest_json)\n",
        "\n"
      ],
      "metadata": {
        "colab": {
          "base_uri": "https://localhost:8080/",
          "height": 54
        },
        "id": "php03aFBn1yW",
        "outputId": "60a6eed6-389b-4345-c3b4-9f11c0571ed6"
      },
      "execution_count": 25,
      "outputs": [
        {
          "output_type": "stream",
          "name": "stdout",
          "text": [
            "Downloading latest file: jsons/7 (1).mp4_Forms and input tags in HTML _ Sigma Web Development Course - Tutorial #7 (1).mp4.json\n"
          ]
        },
        {
          "output_type": "display_data",
          "data": {
            "text/plain": [
              "<IPython.core.display.Javascript object>"
            ],
            "application/javascript": [
              "\n",
              "    async function download(id, filename, size) {\n",
              "      if (!google.colab.kernel.accessAllowed) {\n",
              "        return;\n",
              "      }\n",
              "      const div = document.createElement('div');\n",
              "      const label = document.createElement('label');\n",
              "      label.textContent = `Downloading \"${filename}\": `;\n",
              "      div.appendChild(label);\n",
              "      const progress = document.createElement('progress');\n",
              "      progress.max = size;\n",
              "      div.appendChild(progress);\n",
              "      document.body.appendChild(div);\n",
              "\n",
              "      const buffers = [];\n",
              "      let downloaded = 0;\n",
              "\n",
              "      const channel = await google.colab.kernel.comms.open(id);\n",
              "      // Send a message to notify the kernel that we're ready.\n",
              "      channel.send({})\n",
              "\n",
              "      for await (const message of channel.messages) {\n",
              "        // Send a message to notify the kernel that we're ready.\n",
              "        channel.send({})\n",
              "        if (message.buffers) {\n",
              "          for (const buffer of message.buffers) {\n",
              "            buffers.push(buffer);\n",
              "            downloaded += buffer.byteLength;\n",
              "            progress.value = downloaded;\n",
              "          }\n",
              "        }\n",
              "      }\n",
              "      const blob = new Blob(buffers, {type: 'application/binary'});\n",
              "      const a = document.createElement('a');\n",
              "      a.href = window.URL.createObjectURL(blob);\n",
              "      a.download = filename;\n",
              "      div.appendChild(a);\n",
              "      a.click();\n",
              "      div.remove();\n",
              "    }\n",
              "  "
            ]
          },
          "metadata": {}
        },
        {
          "output_type": "display_data",
          "data": {
            "text/plain": [
              "<IPython.core.display.Javascript object>"
            ],
            "application/javascript": [
              "download(\"download_3b4b7d28-6679-4678-80c2-e7575efb3d4a\", \"7 (1).mp4_Forms and input tags in HTML _ Sigma Web Development Course - Tutorial #7 (1).mp4.json\", 115679)"
            ]
          },
          "metadata": {}
        }
      ]
    },
    {
      "cell_type": "code",
      "source": [
        "!git clone https://github.com/Saketbishnu/RAG-BASED-AI.git\n",
        "%cd RAG-BASED-AI\n"
      ],
      "metadata": {
        "colab": {
          "base_uri": "https://localhost:8080/"
        },
        "id": "KjzCb5E3xbw9",
        "outputId": "3dbd85da-b7c0-4bd8-b930-3fc33a629c9c"
      },
      "execution_count": 27,
      "outputs": [
        {
          "output_type": "stream",
          "name": "stdout",
          "text": [
            "Cloning into 'RAG-BASED-AI'...\n",
            "remote: Enumerating objects: 22, done.\u001b[K\n",
            "remote: Total 22 (delta 0), reused 0 (delta 0), pack-reused 22 (from 1)\u001b[K\n",
            "Receiving objects: 100% (22/22), 440.33 MiB | 41.57 MiB/s, done.\n",
            "Resolving deltas: 100% (1/1), done.\n",
            "Updating files: 100% (19/19), done.\n",
            "/content/RAG-BASED-AI/RAG-BASED-AI\n"
          ]
        }
      ]
    },
    {
      "cell_type": "code",
      "source": [
        "!cp /content/whisper_transcription.ipynb notebooks/\n"
      ],
      "metadata": {
        "colab": {
          "base_uri": "https://localhost:8080/"
        },
        "id": "NFnNENHayRiB",
        "outputId": "9126e6d4-b37c-40ee-93a1-61b2a6a2feb8"
      },
      "execution_count": 28,
      "outputs": [
        {
          "output_type": "stream",
          "name": "stdout",
          "text": [
            "cp: cannot stat '/content/whisper_transcription.ipynb': No such file or directory\n"
          ]
        }
      ]
    },
    {
      "cell_type": "code",
      "source": [
        "!mkdir -p notebooks\n",
        "!cp /content/whisper_transcription.ipynb notebooks/\n"
      ],
      "metadata": {
        "colab": {
          "base_uri": "https://localhost:8080/"
        },
        "id": "QN7MLUkZyW2J",
        "outputId": "6c670813-9d15-4c44-cd67-6db287032613"
      },
      "execution_count": 29,
      "outputs": [
        {
          "output_type": "stream",
          "name": "stdout",
          "text": [
            "cp: cannot stat '/content/whisper_transcription.ipynb': No such file or directory\n"
          ]
        }
      ]
    },
    {
      "cell_type": "code",
      "source": [
        "!git config --global user.email \"your_email@example.com\"\n",
        "!git config --global user.name \"Your Name\"\n",
        "\n",
        "# replace with your personal access token (PAT)\n",
        "!git remote set-url origin https://<TOKEN>@github.com/Saketbishnu/RAG-BASED-AI.git\n"
      ],
      "metadata": {
        "colab": {
          "base_uri": "https://localhost:8080/"
        },
        "id": "fWde3fsAyYv9",
        "outputId": "1369bd66-9a2f-4ad2-f8ac-fb27a3a62426"
      },
      "execution_count": 30,
      "outputs": [
        {
          "output_type": "stream",
          "name": "stdout",
          "text": [
            "/bin/bash: line 1: TOKEN: No such file or directory\n"
          ]
        }
      ]
    }
  ]
}